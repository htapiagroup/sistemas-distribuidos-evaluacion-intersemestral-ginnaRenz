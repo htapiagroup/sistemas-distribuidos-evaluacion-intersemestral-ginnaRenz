{
  "nbformat": 4,
  "nbformat_minor": 0,
  "metadata": {
    "colab": {
      "name": "SistDist_Examen.ipynb",
      "version": "0.3.2",
      "provenance": [],
      "collapsed_sections": [
        "oMaRXEwBC6t_"
      ],
      "include_colab_link": true
    },
    "kernelspec": {
      "name": "python3",
      "display_name": "Python 3"
    }
  },
  "cells": [
    {
      "cell_type": "markdown",
      "metadata": {
        "id": "view-in-github",
        "colab_type": "text"
      },
      "source": [
        "<a href=\"https://colab.research.google.com/github/htapiagroup/sistemas-distribuidos-evaluacion-intersemestral-ginnaRenz/blob/master/SistDist_Examen.ipynb\" target=\"_parent\"><img src=\"https://colab.research.google.com/assets/colab-badge.svg\" alt=\"Open In Colab\"/></a>"
      ]
    },
    {
      "cell_type": "markdown",
      "metadata": {
        "id": "lMrtfqoFciNp",
        "colab_type": "text"
      },
      "source": [
        "##Equipo:\n",
        "Ismael López Martínez <br/>\n",
        "Ginna Monzerrat Nava Enríquez<br/>\n",
        "Francisco García Ortega<br/>\n",
        "José David Cobos Trujillo<br/>\n",
        "Examen: https://colab.research.google.com/drive/13lToRPMX3G1jm6Owj195lWWQQ5OLEhiB"
      ]
    },
    {
      "cell_type": "code",
      "metadata": {
        "id": "Ss6Bn1_OcgaR",
        "colab_type": "code",
        "outputId": "7910f2b9-276c-407e-faf0-d40b25aafc19",
        "colab": {
          "base_uri": "https://localhost:8080/",
          "height": 291
        }
      },
      "source": [
        "!wget https://archive.org/download/nycTaxiTripData2013/trip_data.7z #descarga del dataset"
      ],
      "execution_count": 0,
      "outputs": [
        {
          "output_type": "stream",
          "text": [
            "--2019-06-24 04:02:22--  https://archive.org/download/nycTaxiTripData2013/trip_data.7z\n",
            "Resolving archive.org (archive.org)... 207.241.224.2\n",
            "Connecting to archive.org (archive.org)|207.241.224.2|:443... connected.\n",
            "HTTP request sent, awaiting response... 302 Found\n",
            "Location: https://ia802501.us.archive.org/1/items/nycTaxiTripData2013/trip_data.7z [following]\n",
            "--2019-06-24 04:02:23--  https://ia802501.us.archive.org/1/items/nycTaxiTripData2013/trip_data.7z\n",
            "Resolving ia802501.us.archive.org (ia802501.us.archive.org)... 207.241.228.191\n",
            "Connecting to ia802501.us.archive.org (ia802501.us.archive.org)|207.241.228.191|:443... connected.\n",
            "HTTP request sent, awaiting response... 200 OK\n",
            "Length: 4102781969 (3.8G) [application/x-7z-compressed]\n",
            "Saving to: ‘trip_data.7z’\n",
            "\n",
            "trip_data.7z        100%[===================>]   3.82G  11.6MB/s    in 5m 45s  \n",
            "\n",
            "2019-06-24 04:08:09 (11.3 MB/s) - ‘trip_data.7z’ saved [4102781969/4102781969]\n",
            "\n"
          ],
          "name": "stdout"
        }
      ]
    },
    {
      "cell_type": "code",
      "metadata": {
        "id": "1kD3Op31Mf8w",
        "colab_type": "code",
        "colab": {
          "base_uri": "https://localhost:8080/",
          "height": 34
        },
        "outputId": "5a0daff1-5cb3-4d6e-caa7-e15c0924f1bd"
      },
      "source": [
        "ls"
      ],
      "execution_count": 2,
      "outputs": [
        {
          "output_type": "stream",
          "text": [
            "\u001b[0m\u001b[01;34msample_data\u001b[0m/  trip_data.7z\n"
          ],
          "name": "stdout"
        }
      ]
    },
    {
      "cell_type": "code",
      "metadata": {
        "id": "Q-h3heWfdDDH",
        "colab_type": "code",
        "outputId": "b2a08e20-60e2-4688-f460-621727795f42",
        "colab": {
          "base_uri": "https://localhost:8080/",
          "height": 615
        }
      },
      "source": [
        "!7z l trip_data.7z"
      ],
      "execution_count": 3,
      "outputs": [
        {
          "output_type": "stream",
          "text": [
            "\n",
            "7-Zip [64] 16.02 : Copyright (c) 1999-2016 Igor Pavlov : 2016-05-21\n",
            "p7zip Version 16.02 (locale=en_US.UTF-8,Utf16=on,HugeFiles=on,64 bits,2 CPUs Intel(R) Xeon(R) CPU @ 2.30GHz (306F0),ASM,AES-NI)\n",
            "\n",
            "Scanning the drive for archives:\n",
            "  0M Scan\b\b\b\b\b\b\b\b\b         \b\b\b\b\b\b\b\b\b1 file, 4102781969 bytes (3913 MiB)\n",
            "\n",
            "Listing archive: trip_data.7z\n",
            "\n",
            "--\n",
            "Path = trip_data.7z\n",
            "Type = 7z\n",
            "Physical Size = 4102781969\n",
            "Headers Size = 433\n",
            "Method = LZMA:24\n",
            "Solid = -\n",
            "Blocks = 12\n",
            "\n",
            "   Date      Time    Attr         Size   Compressed  Name\n",
            "------------------- ----- ------------ ------------  ------------------------\n",
            "2014-05-12 22:02:53 ....A   2459600863    345687208  trip_data_1.csv\n",
            "2014-01-15 06:55:32 ....A   2502278613    358624764  trip_data_10.csv\n",
            "2014-01-15 07:34:24 ....A   2395449056    342987617  trip_data_11.csv\n",
            "2014-01-15 08:09:28 ....A   2327237611    331056148  trip_data_12.csv\n",
            "2014-05-12 22:08:09 ....A   2328673265    327374725  trip_data_2.csv\n",
            "2013-08-26 02:19:46 ....A   2622301287    371026139  trip_data_3.csv\n",
            "2013-08-26 02:53:34 ....A   2515040578    361556239  trip_data_4.csv\n",
            "2013-08-26 03:27:40 ....A   2545680024    358447730  trip_data_5.csv\n",
            "2013-08-26 03:59:30 ....A   2396133818    341464743  trip_data_6.csv\n",
            "2014-01-15 05:01:12 ....A   2303297474    324785999  trip_data_7.csv\n",
            "2014-01-15 05:35:12 ....A   2100978620    300295410  trip_data_8.csv\n",
            "2014-01-15 06:13:50 ....A   2353003850    339474814  trip_data_9.csv\n",
            "------------------- ----- ------------ ------------  ------------------------\n",
            "2014-05-12 22:08:09        28849675059   4102781536  12 files\n"
          ],
          "name": "stdout"
        }
      ]
    },
    {
      "cell_type": "code",
      "metadata": {
        "id": "a2yJjHNTgLeq",
        "colab_type": "code",
        "colab": {}
      },
      "source": [
        "import pandas as pd\n",
        "import numpy as np\n",
        "import psutil, os \n",
        "import dask.dataframe as dd\n",
        "import gc\n",
        "import time\n",
        "import datetime as dt"
      ],
      "execution_count": 0,
      "outputs": []
    },
    {
      "cell_type": "code",
      "metadata": {
        "id": "0GIJGfuuUw9y",
        "colab_type": "code",
        "colab": {}
      },
      "source": [
        "#Plantilla para descomprimir los archivos del archivo 7z\n",
        "plantilla = 'trip_data_{:01d}.csv'"
      ],
      "execution_count": 0,
      "outputs": []
    },
    {
      "cell_type": "code",
      "metadata": {
        "id": "aLmKlVmlWNgf",
        "colab_type": "code",
        "colab": {}
      },
      "source": [
        "#Arreglo contiene el nombre de los archivos que eventualmente se descomprimiran del original\n",
        "files =[ plantilla.format(month) for month in range(1,13)]"
      ],
      "execution_count": 0,
      "outputs": []
    },
    {
      "cell_type": "markdown",
      "metadata": {
        "id": "0baJ4tKdYi8Y",
        "colab_type": "text"
      },
      "source": [
        "##1 y 2 Procesamiento de archivo trip_data.7z\n",
        "Nuestro procedimiento consistio en descomprimir archivo por archivo, procesarlo, finalmente borrarlo.<br/>\n",
        "Con el objetivo de no llenar el espacio en DD"
      ]
    },
    {
      "cell_type": "code",
      "metadata": {
        "id": "qyRmh87lHknj",
        "colab_type": "code",
        "colab": {}
      },
      "source": [
        "def leer_archivo_depurado(fileName):  \n",
        "  plantilla7z='7z x trip_data.7z  -o/content '+ fileName\n",
        "  #print (plantilla7z)\n",
        "  os.system(plantilla7z)\n",
        "  data=dd.read_csv(file,low_memory=False, parse_dates=True, usecols=[0,5,6,7,8,9,10,11,12,13], \n",
        "                   names=['medallion','pickup_datetime','dropoff_datetime','passenger_count',\n",
        "                          'trip_time_in_secs','trip_distance','pickup_longitude','pickup_latitude','dropoff_longitude','dropoff_latitude'],header=0, dtype={'trip_distance': 'float64','trip_time_in_secs': 'int64', 'medallion': 'str', 'passenger_count': 'int64','pickup_longitude': 'float64','pickup_latitude':'float64','dropoff_longitude': 'float64', 'dropoff_latitude':'float64'}).compute() # se carga a dataset de pandas    \n",
        "  os.system('rm '+fileName)  \n",
        "  return data"
      ],
      "execution_count": 0,
      "outputs": []
    },
    {
      "cell_type": "code",
      "metadata": {
        "id": "pr7-om5oFwhi",
        "colab_type": "code",
        "colab": {}
      },
      "source": [
        "def leer_archivo_puros(fileName):\n",
        "  plantilla7z='7z x trip_data.7z  -o/content '+ fileName\n",
        "  #print (plantilla7z)\n",
        "  os.system(plantilla7z)\n",
        "  data=dd.read_csv(file,low_memory=False, parse_dates=True, dtype={' store_and_fwd_flag':'object'}).compute() # se carga a dataset    \n",
        "  os.system('rm '+fileName)  \n",
        "  return data\n",
        "  "
      ],
      "execution_count": 0,
      "outputs": []
    },
    {
      "cell_type": "markdown",
      "metadata": {
        "id": "y0wGqmPaZcj6",
        "colab_type": "text"
      },
      "source": [
        "##3.- Responder las siguientes preguntas:<br/>\n",
        "A) Cuantas columnas contiene cada archivo de datos descomprimido.<br/>\n",
        "B) Cuantos renglones tiene cada archivo."
      ]
    },
    {
      "cell_type": "code",
      "metadata": {
        "id": "pIo9okGOXUia",
        "colab_type": "code",
        "colab": {}
      },
      "source": [
        "dfContar = pd.DataFrame(columns=['Name', 'Columns', 'Rows'])\n"
      ],
      "execution_count": 0,
      "outputs": []
    },
    {
      "cell_type": "code",
      "metadata": {
        "id": "SC6kKY98XD5T",
        "colab_type": "code",
        "colab": {}
      },
      "source": [
        "#Con base a la plantilla de los 12 archivos\n",
        "#Se procesaron de forma secuencial uno tras otro con la librerias dask\n",
        "#Para intercalar el uso de los recursos (Memoria, Disco Duro)\n",
        "#Finalmente el resultado lo dejamos en un DataFrame de Pandas pues no implica gran uso de de los recursos\n",
        "for file in files:\n",
        "  df=leer_archivo_puros(file)\n",
        "  total_rows=len(df.axes[0])\n",
        "  total_cols=len(df.axes[1])\n",
        "  new_row=pd.DataFrame({'Name' : file , 'Columns' : total_cols, 'Rows':total_rows},index=[0])  \n",
        "  dfContar=pd.concat([new_row,dfContar]).reset_index(drop=True)"
      ],
      "execution_count": 0,
      "outputs": []
    },
    {
      "cell_type": "code",
      "metadata": {
        "id": "hOAAVJ2rfojB",
        "colab_type": "code",
        "outputId": "21acde35-4c3a-43ed-d7e3-02319ce1370a",
        "colab": {
          "base_uri": "https://localhost:8080/",
          "height": 402
        }
      },
      "source": [
        "  dfContar.sort_values(by=['Name'])\n",
        "  dfContar.head(12)"
      ],
      "execution_count": 13,
      "outputs": [
        {
          "output_type": "execute_result",
          "data": {
            "text/html": [
              "<div>\n",
              "<style scoped>\n",
              "    .dataframe tbody tr th:only-of-type {\n",
              "        vertical-align: middle;\n",
              "    }\n",
              "\n",
              "    .dataframe tbody tr th {\n",
              "        vertical-align: top;\n",
              "    }\n",
              "\n",
              "    .dataframe thead th {\n",
              "        text-align: right;\n",
              "    }\n",
              "</style>\n",
              "<table border=\"1\" class=\"dataframe\">\n",
              "  <thead>\n",
              "    <tr style=\"text-align: right;\">\n",
              "      <th></th>\n",
              "      <th>Name</th>\n",
              "      <th>Columns</th>\n",
              "      <th>Rows</th>\n",
              "    </tr>\n",
              "  </thead>\n",
              "  <tbody>\n",
              "    <tr>\n",
              "      <th>0</th>\n",
              "      <td>trip_data_12.csv</td>\n",
              "      <td>14</td>\n",
              "      <td>13971118</td>\n",
              "    </tr>\n",
              "    <tr>\n",
              "      <th>1</th>\n",
              "      <td>trip_data_11.csv</td>\n",
              "      <td>14</td>\n",
              "      <td>14388451</td>\n",
              "    </tr>\n",
              "    <tr>\n",
              "      <th>2</th>\n",
              "      <td>trip_data_10.csv</td>\n",
              "      <td>14</td>\n",
              "      <td>15004556</td>\n",
              "    </tr>\n",
              "    <tr>\n",
              "      <th>3</th>\n",
              "      <td>trip_data_9.csv</td>\n",
              "      <td>14</td>\n",
              "      <td>14107693</td>\n",
              "    </tr>\n",
              "    <tr>\n",
              "      <th>4</th>\n",
              "      <td>trip_data_8.csv</td>\n",
              "      <td>14</td>\n",
              "      <td>12597109</td>\n",
              "    </tr>\n",
              "    <tr>\n",
              "      <th>5</th>\n",
              "      <td>trip_data_7.csv</td>\n",
              "      <td>14</td>\n",
              "      <td>13823840</td>\n",
              "    </tr>\n",
              "    <tr>\n",
              "      <th>6</th>\n",
              "      <td>trip_data_6.csv</td>\n",
              "      <td>14</td>\n",
              "      <td>14385456</td>\n",
              "    </tr>\n",
              "    <tr>\n",
              "      <th>7</th>\n",
              "      <td>trip_data_5.csv</td>\n",
              "      <td>14</td>\n",
              "      <td>15285049</td>\n",
              "    </tr>\n",
              "    <tr>\n",
              "      <th>8</th>\n",
              "      <td>trip_data_4.csv</td>\n",
              "      <td>14</td>\n",
              "      <td>15100468</td>\n",
              "    </tr>\n",
              "    <tr>\n",
              "      <th>9</th>\n",
              "      <td>trip_data_3.csv</td>\n",
              "      <td>14</td>\n",
              "      <td>15749228</td>\n",
              "    </tr>\n",
              "    <tr>\n",
              "      <th>10</th>\n",
              "      <td>trip_data_2.csv</td>\n",
              "      <td>14</td>\n",
              "      <td>13990176</td>\n",
              "    </tr>\n",
              "    <tr>\n",
              "      <th>11</th>\n",
              "      <td>trip_data_1.csv</td>\n",
              "      <td>14</td>\n",
              "      <td>14776615</td>\n",
              "    </tr>\n",
              "  </tbody>\n",
              "</table>\n",
              "</div>"
            ],
            "text/plain": [
              "                Name Columns      Rows\n",
              "0   trip_data_12.csv      14  13971118\n",
              "1   trip_data_11.csv      14  14388451\n",
              "2   trip_data_10.csv      14  15004556\n",
              "3    trip_data_9.csv      14  14107693\n",
              "4    trip_data_8.csv      14  12597109\n",
              "5    trip_data_7.csv      14  13823840\n",
              "6    trip_data_6.csv      14  14385456\n",
              "7    trip_data_5.csv      14  15285049\n",
              "8    trip_data_4.csv      14  15100468\n",
              "9    trip_data_3.csv      14  15749228\n",
              "10   trip_data_2.csv      14  13990176\n",
              "11   trip_data_1.csv      14  14776615"
            ]
          },
          "metadata": {
            "tags": []
          },
          "execution_count": 13
        }
      ]
    },
    {
      "cell_type": "markdown",
      "metadata": {
        "id": "bSJUaMbD9WUy",
        "colab_type": "text"
      },
      "source": [
        "###4 Identificar si existen renglones con errores en los datos.<br/>\n",
        "Por ejemplo si hay columnas de mas (o de menos), si hay campos vacios, etc. Si se detectan renglones con errores:<br/>\n",
        "A)indicar claramente cuantos son los renglones con errores y a que archivos corresponden <br/>\n",
        "B)crear un nuevo conjunto de datos con los errores eliminados <br/>"
      ]
    },
    {
      "cell_type": "code",
      "metadata": {
        "id": "ySAJY5P7RqJa",
        "colab_type": "code",
        "colab": {}
      },
      "source": [
        "files =[plantilla.format(month) for month in range(1,13)]\n"
      ],
      "execution_count": 0,
      "outputs": []
    },
    {
      "cell_type": "code",
      "metadata": {
        "id": "PPoipdxpjUwx",
        "colab_type": "code",
        "colab": {}
      },
      "source": [
        "dfLimpiar = pd.DataFrame(columns=['Name', 'Columns', 'Rows','CantNulos','FueraRangoPasaje','FueraRangoNY','FueraMillas','RowsFinales'])"
      ],
      "execution_count": 0,
      "outputs": []
    },
    {
      "cell_type": "code",
      "metadata": {
        "id": "kriM0utqy2kN",
        "colab_type": "code",
        "outputId": "df4af40d-7dac-4518-9fd1-6bacb0c5a2ac",
        "colab": {
          "base_uri": "https://localhost:8080/",
          "height": 125
        }
      },
      "source": [
        "#Montamos la unidad de google para trabajar con ello y evitar que se llene el espacio de almacenamiento\n",
        "from google.colab import drive\n",
        "drive.mount('/content/gdrive' ,force_remount=True)"
      ],
      "execution_count": 16,
      "outputs": [
        {
          "output_type": "stream",
          "text": [
            "Go to this URL in a browser: https://accounts.google.com/o/oauth2/auth?client_id=947318989803-6bn6qk8qdgf4n4g3pfee6491hc0brc4i.apps.googleusercontent.com&redirect_uri=urn%3Aietf%3Awg%3Aoauth%3A2.0%3Aoob&scope=email%20https%3A%2F%2Fwww.googleapis.com%2Fauth%2Fdocs.test%20https%3A%2F%2Fwww.googleapis.com%2Fauth%2Fdrive%20https%3A%2F%2Fwww.googleapis.com%2Fauth%2Fdrive.photos.readonly%20https%3A%2F%2Fwww.googleapis.com%2Fauth%2Fpeopleapi.readonly&response_type=code\n",
            "\n",
            "Enter your authorization code:\n",
            "··········\n",
            "Mounted at /content/gdrive\n"
          ],
          "name": "stdout"
        }
      ]
    },
    {
      "cell_type": "code",
      "metadata": {
        "id": "-MKYVhdKf7ZP",
        "colab_type": "code",
        "colab": {}
      },
      "source": [
        "quedafiltros=[]"
      ],
      "execution_count": 0,
      "outputs": []
    },
    {
      "cell_type": "code",
      "metadata": {
        "id": "l3CPa_THfxl7",
        "colab_type": "code",
        "colab": {}
      },
      "source": [
        "def limpiarDataFrame(df):\n",
        "    a=len(df.axes[0])\n",
        "    df=df.dropna()\n",
        "    #df = df[(df['passenger_count'] >0) & (df['passenger_count'] <= 7)]\n",
        "    quedafiltros.append(a-len(df.axes[0]))\n",
        "    a=len(df.axes[0])\n",
        "    #df=df.dropna()\n",
        "    df = df[(df['passenger_count'] >0) & (df['passenger_count'] <= 7)]\n",
        "    quedafiltros.append(a-len(df.axes[0]))\n",
        "    a=len(df.axes[0])\n",
        "    df=df[(df['pickup_latitude'] >40.496136) & (df['pickup_latitude'] <40.897877) & (df['pickup_longitude'] >-74.269459)& (df['pickup_longitude'] <-73.690606)]\n",
        "    quedafiltros.append(a-len(df.axes[0]))\n",
        "    a=len(df.axes[0])\n",
        "    df = df[(df['trip_distance'] <=100)]\n",
        "    quedafiltros.append(a-len(df.axes[0]))\n",
        "    return df"
      ],
      "execution_count": 0,
      "outputs": []
    },
    {
      "cell_type": "code",
      "metadata": {
        "id": "70tD0FhY9Ohy",
        "colab_type": "code",
        "colab": {}
      },
      "source": [
        "#Proceso de limpieza de datos se realiza sobre todos los datos del archivo original\n",
        "for file in files:  \n",
        "  df=leer_archivo_depurado(file)\n",
        "  a=limpiarDataFrame(df)\n",
        "  fname=file\n",
        "  a.to_csv(fname)  \n",
        "  gzipCommand=\"gzip \"+fname  \n",
        "  os.system(gzipCommand)  \n",
        "  gzipName=fname+\".gz\"\n",
        "  os.system( \"mv \"+gzipName +\" \\\"/content/gdrive/My Drive/Colab Notebooks/\"+gzipName+\"\\\"\") \n",
        "  total_rows=len(df.axes[0])\n",
        "  total_cols=len(df.axes[1])\n",
        "  new_row=pd.DataFrame({'Name' : file , 'Columns' : total_cols, 'Rows':total_rows,'CantNulos':quedafiltros[0],'FueraRangoPasaje':quedafiltros[1],'FueraRangoNY':quedafiltros[2],'FueraMillas':quedafiltros[3],'RowsFinales':total_rows-(quedafiltros[0]+quedafiltros[1]+quedafiltros[2]+quedafiltros[3])},index=[0])\n",
        "  quedafiltros=[]\n",
        "  dfLimpiar=pd.concat([new_row,dfLimpiar]).reset_index(drop=True)  \n",
        "\n",
        "  \n",
        "\n"
      ],
      "execution_count": 0,
      "outputs": []
    },
    {
      "cell_type": "code",
      "metadata": {
        "id": "LXALjDqNHPPZ",
        "colab_type": "code",
        "outputId": "da029bb8-e256-4d6c-e801-d7db07a65711",
        "colab": {
          "base_uri": "https://localhost:8080/",
          "height": 402
        }
      },
      "source": [
        "dfLimpiar"
      ],
      "execution_count": 25,
      "outputs": [
        {
          "output_type": "execute_result",
          "data": {
            "text/html": [
              "<div>\n",
              "<style scoped>\n",
              "    .dataframe tbody tr th:only-of-type {\n",
              "        vertical-align: middle;\n",
              "    }\n",
              "\n",
              "    .dataframe tbody tr th {\n",
              "        vertical-align: top;\n",
              "    }\n",
              "\n",
              "    .dataframe thead th {\n",
              "        text-align: right;\n",
              "    }\n",
              "</style>\n",
              "<table border=\"1\" class=\"dataframe\">\n",
              "  <thead>\n",
              "    <tr style=\"text-align: right;\">\n",
              "      <th></th>\n",
              "      <th>Name</th>\n",
              "      <th>Columns</th>\n",
              "      <th>Rows</th>\n",
              "      <th>CantNulos</th>\n",
              "      <th>FueraRangoPasaje</th>\n",
              "      <th>FueraRangoNY</th>\n",
              "      <th>FueraMillas</th>\n",
              "      <th>RowsFinales</th>\n",
              "    </tr>\n",
              "  </thead>\n",
              "  <tbody>\n",
              "    <tr>\n",
              "      <th>0</th>\n",
              "      <td>trip_data_12.csv</td>\n",
              "      <td>10</td>\n",
              "      <td>13971118</td>\n",
              "      <td>112</td>\n",
              "      <td>259</td>\n",
              "      <td>233359</td>\n",
              "      <td>0</td>\n",
              "      <td>13737388</td>\n",
              "    </tr>\n",
              "    <tr>\n",
              "      <th>1</th>\n",
              "      <td>trip_data_11.csv</td>\n",
              "      <td>10</td>\n",
              "      <td>14388451</td>\n",
              "      <td>754</td>\n",
              "      <td>136</td>\n",
              "      <td>276720</td>\n",
              "      <td>0</td>\n",
              "      <td>14110841</td>\n",
              "    </tr>\n",
              "    <tr>\n",
              "      <th>2</th>\n",
              "      <td>trip_data_10.csv</td>\n",
              "      <td>10</td>\n",
              "      <td>15004556</td>\n",
              "      <td>736</td>\n",
              "      <td>104</td>\n",
              "      <td>170721</td>\n",
              "      <td>0</td>\n",
              "      <td>14832995</td>\n",
              "    </tr>\n",
              "    <tr>\n",
              "      <th>3</th>\n",
              "      <td>trip_data_9.csv</td>\n",
              "      <td>10</td>\n",
              "      <td>14107693</td>\n",
              "      <td>78</td>\n",
              "      <td>94</td>\n",
              "      <td>152414</td>\n",
              "      <td>0</td>\n",
              "      <td>13955107</td>\n",
              "    </tr>\n",
              "    <tr>\n",
              "      <th>4</th>\n",
              "      <td>trip_data_8.csv</td>\n",
              "      <td>10</td>\n",
              "      <td>12597109</td>\n",
              "      <td>45</td>\n",
              "      <td>320</td>\n",
              "      <td>146214</td>\n",
              "      <td>771</td>\n",
              "      <td>12449759</td>\n",
              "    </tr>\n",
              "    <tr>\n",
              "      <th>5</th>\n",
              "      <td>trip_data_7.csv</td>\n",
              "      <td>10</td>\n",
              "      <td>13823840</td>\n",
              "      <td>698</td>\n",
              "      <td>109</td>\n",
              "      <td>206778</td>\n",
              "      <td>0</td>\n",
              "      <td>13616255</td>\n",
              "    </tr>\n",
              "    <tr>\n",
              "      <th>6</th>\n",
              "      <td>trip_data_6.csv</td>\n",
              "      <td>10</td>\n",
              "      <td>14385456</td>\n",
              "      <td>338</td>\n",
              "      <td>157</td>\n",
              "      <td>258610</td>\n",
              "      <td>0</td>\n",
              "      <td>14126351</td>\n",
              "    </tr>\n",
              "    <tr>\n",
              "      <th>7</th>\n",
              "      <td>trip_data_5.csv</td>\n",
              "      <td>10</td>\n",
              "      <td>15285049</td>\n",
              "      <td>39</td>\n",
              "      <td>86</td>\n",
              "      <td>798965</td>\n",
              "      <td>0</td>\n",
              "      <td>14485959</td>\n",
              "    </tr>\n",
              "    <tr>\n",
              "      <th>8</th>\n",
              "      <td>trip_data_4.csv</td>\n",
              "      <td>10</td>\n",
              "      <td>15100468</td>\n",
              "      <td>146</td>\n",
              "      <td>85</td>\n",
              "      <td>257812</td>\n",
              "      <td>0</td>\n",
              "      <td>14842425</td>\n",
              "    </tr>\n",
              "    <tr>\n",
              "      <th>9</th>\n",
              "      <td>trip_data_3.csv</td>\n",
              "      <td>10</td>\n",
              "      <td>15749228</td>\n",
              "      <td>293</td>\n",
              "      <td>136</td>\n",
              "      <td>282785</td>\n",
              "      <td>0</td>\n",
              "      <td>15466014</td>\n",
              "    </tr>\n",
              "    <tr>\n",
              "      <th>10</th>\n",
              "      <td>trip_data_2.csv</td>\n",
              "      <td>10</td>\n",
              "      <td>13990176</td>\n",
              "      <td>113</td>\n",
              "      <td>95</td>\n",
              "      <td>265047</td>\n",
              "      <td>0</td>\n",
              "      <td>13724921</td>\n",
              "    </tr>\n",
              "    <tr>\n",
              "      <th>11</th>\n",
              "      <td>trip_data_1.csv</td>\n",
              "      <td>10</td>\n",
              "      <td>14776615</td>\n",
              "      <td>86</td>\n",
              "      <td>83</td>\n",
              "      <td>272796</td>\n",
              "      <td>0</td>\n",
              "      <td>14503650</td>\n",
              "    </tr>\n",
              "  </tbody>\n",
              "</table>\n",
              "</div>"
            ],
            "text/plain": [
              "                Name Columns      Rows  ... FueraRangoNY FueraMillas RowsFinales\n",
              "0   trip_data_12.csv      10  13971118  ...       233359           0    13737388\n",
              "1   trip_data_11.csv      10  14388451  ...       276720           0    14110841\n",
              "2   trip_data_10.csv      10  15004556  ...       170721           0    14832995\n",
              "3    trip_data_9.csv      10  14107693  ...       152414           0    13955107\n",
              "4    trip_data_8.csv      10  12597109  ...       146214         771    12449759\n",
              "5    trip_data_7.csv      10  13823840  ...       206778           0    13616255\n",
              "6    trip_data_6.csv      10  14385456  ...       258610           0    14126351\n",
              "7    trip_data_5.csv      10  15285049  ...       798965           0    14485959\n",
              "8    trip_data_4.csv      10  15100468  ...       257812           0    14842425\n",
              "9    trip_data_3.csv      10  15749228  ...       282785           0    15466014\n",
              "10   trip_data_2.csv      10  13990176  ...       265047           0    13724921\n",
              "11   trip_data_1.csv      10  14776615  ...       272796           0    14503650\n",
              "\n",
              "[12 rows x 8 columns]"
            ]
          },
          "metadata": {
            "tags": []
          },
          "execution_count": 25
        }
      ]
    },
    {
      "cell_type": "markdown",
      "metadata": {
        "id": "cEcymLd9_kY4",
        "colab_type": "text"
      },
      "source": [
        "###5. Crear un DataFrame usando la libreria pandas y responder lo siguiente:<br/>\n",
        "A)Indicar el tiempo en segundos, que tarda la libreria pandas en leer un archivo a un  DataFrame<br/>\n",
        "B)Cual es la huella de memoria del proceso usado para generar el objeto DataFrame <br/>\n",
        "C)Cuanta memoria del sistema se usa para crear el objeto anterior <br/>\n",
        "D)Indicar el tiempo que tarda pandas en obtener el promedio de la distancia de viaje (trip_distance) <br/>"
      ]
    },
    {
      "cell_type": "markdown",
      "metadata": {
        "id": "wPD5DePZavbB",
        "colab_type": "text"
      },
      "source": [
        ""
      ]
    },
    {
      "cell_type": "markdown",
      "metadata": {
        "id": "LuxGCQv1BC-v",
        "colab_type": "text"
      },
      "source": [
        "###6. Todos los pasos siguientes deben realizarse usando la libreria dask<br/>\n",
        "A)Indicar el tiempo que tarda en obtener el promedio de la distancia de viaje (trip_distance)<br/>\n",
        "B)Indicar el tiempo que tarda en obtener el promedio de la duracion de viaje (trip_time_in_secs)<br/>\n",
        "C)Con las columnas pickup_datetime y dropoff_datetime como objetos temporales, crear una nueva columna en los dataframes que se llame duracion y compararla renglon a renglon con la columna trip_time_in_secs<br/>\n",
        "D)Definir un viaje_largo como aquellos en los que la duracion del viaje (trip_time_in_secs) sea mayor a 20 minutos.<br/>\n"
      ]
    },
    {
      "cell_type": "markdown",
      "metadata": {
        "id": "Fk7DBsFICgMj",
        "colab_type": "text"
      },
      "source": [
        "###7. Contar el numero de viajes largos en cada archivo"
      ]
    },
    {
      "cell_type": "markdown",
      "metadata": {
        "id": "bH1BXaOPCk_9",
        "colab_type": "text"
      },
      "source": [
        "###8. De los viajes largos. <br/>\n",
        "A) Identificar el numero de taxis diferentes (la columna medallion contiene un numero que identificada a cada uno de los vehiculos). <br/>\n",
        "B) Que vehiculos son los que mas viajes realizan en cada mes? Son el mismo vehiculo?"
      ]
    },
    {
      "cell_type": "markdown",
      "metadata": {
        "id": "Uf7UvMZy1Vs2",
        "colab_type": "text"
      },
      "source": [
        "3. Responder las siguientes preguntas:\n",
        " \n",
        "\n",
        "*  Cuantas columnas contiene cada archivo de datos descomprimido\n",
        "*  Cuantos renglones tiene cada archivo\n",
        "\n",
        "\n"
      ]
    },
    {
      "cell_type": "markdown",
      "metadata": {
        "id": "DRa8gM9k6eY_",
        "colab_type": "text"
      },
      "source": [
        "4. Identificar si existen renglones con errores en los datos, por ejemplo si hay columnas de mas (o de menos), si hay campos vacios, etc. Si se detectan renglones con errores:\n",
        "\n",
        "*   Indicar claramente cuantos son los renglones con errores y a que archivos corresponden\n",
        "*   Crear un nuevo conjunto de datos con los errores eliminados\n",
        "\n"
      ]
    },
    {
      "cell_type": "markdown",
      "metadata": {
        "id": "D25im3nU7bRF",
        "colab_type": "text"
      },
      "source": [
        "5.  Crear un DataFrame usando la libreria pandas y responder lo siguiente:\n",
        "\n",
        "A)  Indicar el tiempo en segundos, que tarda la libreria pandas en leer un archivo a un  DataFrame <br/>\n",
        "B)  Cual es la huella de memoria del proceso usado para generar el objeto DataFrame  <br/>\n",
        "C)   Cuanta memoria del sistema se usa para crear el objeto anterior  <br/>\n",
        "D)   Indicar el tiempo que tarda pandas en obtener el promedio de la distancia de viaje (trip_distance)\n"
      ]
    },
    {
      "cell_type": "markdown",
      "metadata": {
        "id": "oMaRXEwBC6t_",
        "colab_type": "text"
      },
      "source": [
        "###9.Hacer una grafica temporal del numero total de pasajeros agregados por dias de la semana y despues por horas del dia. Sugerencia: agregar por el correspondiente periodo temporal y graficar. <br/>\n",
        " ¿Que pueden observar de las graficas?"
      ]
    }
  ]
}